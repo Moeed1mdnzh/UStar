{
  "nbformat": 4,
  "nbformat_minor": 0,
  "metadata": {
    "colab": {
      "name": "UStarV1_Colab.ipynb",
      "provenance": [],
      "collapsed_sections": []
    },
    "kernelspec": {
      "name": "python3",
      "display_name": "Python 3"
    },
    "language_info": {
      "name": "python"
    },
    "accelerator": "GPU"
  },
  "cells": [
    {
      "cell_type": "markdown",
      "source": [
        "# Getting Started"
      ],
      "metadata": {
        "id": "JfYl9m6fd01O"
      }
    },
    {
      "cell_type": "markdown",
      "source": [
        "## Set a Runtime\n",
        "We need the model to be trained on GPU.In order to switch the accelerator to GPU.This can be accomplished by clicking on **Runtime** in the navbar and next navigate to **Change runtime type** and finally if the accelerator is set to GPU, leave it otherwise switch it to GPU."
      ],
      "metadata": {
        "id": "5IxkL726ewER"
      }
    },
    {
      "cell_type": "markdown",
      "source": [
        "## Setup"
      ],
      "metadata": {
        "id": "4CPzk9PbgDoq"
      }
    },
    {
      "cell_type": "markdown",
      "source": [
        "### Cloning the repository of the network"
      ],
      "metadata": {
        "id": "T_UyRBkngHsS"
      }
    },
    {
      "cell_type": "code",
      "execution_count": null,
      "metadata": {
        "id": "kZDkw7mhGxVK"
      },
      "outputs": [],
      "source": [
        "!git clone https://github.com/Moeed1mdnzh/UStarV1"
      ]
    },
    {
      "cell_type": "code",
      "source": [
        "%cd UStarV1"
      ],
      "metadata": {
        "id": "jglhT2dyG6rE"
      },
      "execution_count": null,
      "outputs": []
    },
    {
      "cell_type": "markdown",
      "source": [
        "### Installing the requirements and configurations"
      ],
      "metadata": {
        "id": "Lntur1hcgSSP"
      }
    },
    {
      "cell_type": "code",
      "source": [
        "!python setup.py"
      ],
      "metadata": {
        "id": "e2-MN26PG8Zq"
      },
      "execution_count": null,
      "outputs": []
    },
    {
      "cell_type": "markdown",
      "source": [
        "## Dataset\n",
        "In this step we apply the special trick to generate 1000 images using a single image according to the original paper."
      ],
      "metadata": {
        "id": "IIK-1_5Egb_x"
      }
    },
    {
      "cell_type": "code",
      "source": [
        "!python generate_data.py"
      ],
      "metadata": {
        "id": "m77ttQ1WG9lK"
      },
      "execution_count": null,
      "outputs": []
    },
    {
      "cell_type": "markdown",
      "source": [
        "## Training\n",
        "The training can be done using a single command.Here are the optional parameters you can change"
      ],
      "metadata": {
        "id": "VWlVejwWg0St"
      }
    },
    {
      "cell_type": "markdown",
      "source": [
        "###-visualize\n",
        "To wether save the visualizations or not\n",
        "###-evaluate\n",
        "To wether evaluate the model or not\n",
        "###-save\n",
        "To wether save the best model or not"
      ],
      "metadata": {
        "id": "PfXim5ZjhC_g"
      }
    },
    {
      "cell_type": "code",
      "source": [
        "!python train.py -v True -e True -s True"
      ],
      "metadata": {
        "id": "XAnjV_xGHBBf"
      },
      "execution_count": null,
      "outputs": []
    }
  ]
}